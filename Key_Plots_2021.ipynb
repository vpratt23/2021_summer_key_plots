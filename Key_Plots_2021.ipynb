{
 "cells": [
  {
   "cell_type": "markdown",
   "metadata": {},
   "source": [
    "### Imports and Setting Up the SAGA Data"
   ]
  },
  {
   "cell_type": "code",
   "execution_count": 24,
   "metadata": {},
   "outputs": [
    {
     "name": "stdout",
     "output_type": "stream",
     "text": [
      "0.41.4\n",
      "SAGA `shared_dir` set to /Users/Veronica/Downloads/SAGA_2021_research/More_LMC\n",
      "SAGA `local_dir`  set to /Users/Veronica/Downloads/SAGA_2021_research/More_LMC\n"
     ]
    },
    {
     "name": "stderr",
     "output_type": "stream",
     "text": [
      "WARNING:root:Cannot find local file; attempt to download from remote...\n"
     ]
    },
    {
     "name": "stdout",
     "output_type": "stream",
     "text": [
      "SAGA `shared_dir` set to /Users/Veronica/Downloads/SAGA_2021_research/More_LMC\n",
      "SAGA `local_dir`  set to /Users/Veronica/Downloads/SAGA_2021_research/More_LMC\n"
     ]
    }
   ],
   "source": [
    "import os\n",
    "os.remove(saga.database[\"host_stats\"].local.path)\n",
    "saga.database[\"host_stats\"].clear_cache()\n",
    "\n",
    "import pickle\n",
    "import pandas as pd\n",
    "import matplotlib.pyplot as plt\n",
    "import scipy.stats \n",
    "\n",
    "import SAGA\n",
    "print(SAGA.__version__)\n",
    "saga = SAGA.QuickStart()\n",
    "hosts = saga.host_catalog.load(include_stats=True)\n",
    "assert saga.good.count(hosts) == 134\n",
    "assert saga.paper3.count(hosts) == 97\n",
    "assert saga.paper3.filter(hosts, \"sats_total\").sum() == 334\n",
    "from SAGA.database import FitsTable  # needs version >= 0.21.3\n",
    "from easyquery import Query\n",
    "from easyquery import QueryMaker\n",
    "\n",
    "from numpy import random\n",
    "import numpy as np\n",
    "\n",
    "saga = SAGA.QuickStart()"
   ]
  },
  {
   "cell_type": "code",
   "execution_count": 11,
   "metadata": {},
   "outputs": [],
   "source": [
    "import random\n",
    "from random import randint\n",
    "from random import shuffle"
   ]
  },
  {
   "cell_type": "code",
   "execution_count": 12,
   "metadata": {},
   "outputs": [],
   "source": [
    "with open(r'sat_alpha_015_new.pickle', 'rb') as f:\n",
    "    p3_sat143 = pickle.load(f, encoding='latin1')\n",
    "    \n",
    "with open(r'host_halo_alpha_015_new.pickle', 'rb') as f:\n",
    "    p3_host_halo143 = pickle.load(f, encoding='latin1')\n",
    "\n",
    "with open(r'host_MK_alpha_015_new.pickle', 'rb') as f:\n",
    "    p3_host_lum143 = pickle.load(f, encoding = 'latin1')     \n",
    "    \n",
    "with open(r'rproj_alpha_015_new.pickle', 'rb') as f:\n",
    "    p3_rproj143 = pickle.load(f, encoding='latin1')\n",
    "    \n",
    "with open(r'vproj_alpha_015_new.pickle', 'rb') as f:\n",
    "    p3_vproj143 = pickle.load(f, encoding='latin1')\n",
    "    \n",
    "with open(r'Mr_alpha_015_new.pickle', 'rb') as f:\n",
    "    p3_Mr143 = pickle.load(f, encoding='latin1')\n"
   ]
  },
  {
   "cell_type": "code",
   "execution_count": 13,
   "metadata": {},
   "outputs": [],
   "source": [
    "#Pre-computed catalogs for halos matched to SAGA hosts\n",
    "with open(r\"sat_alpha_139.pickle\", \"rb\") as f:\n",
    "    sat139 = pickle.load(f, encoding='latin1')\n",
    "    \n",
    "with open(r\"host_halo_alpha_139.pickle\", \"rb\") as f:\n",
    "    host_halo139 = pickle.load(f, encoding='latin1')\n",
    "    \n",
    "with open(r\"rproj_alpha_139.pickle\", \"rb\") as f:\n",
    "    rproj139 = pickle.load(f, encoding='latin1')\n",
    "    \n",
    "with open(r\"vproj_alpha_139.pickle\", \"rb\") as f:\n",
    "    vproj139 = pickle.load(f, encoding='latin1')\n",
    "    \n",
    "with open(r\"Mr_alpha_139.pickle\", \"rb\") as f:\n",
    "    Mr139 = pickle.load(f, encoding='latin1')\n",
    "\n",
    "#Pre-computed catalogs for halos matched to SAGA hosts\n",
    "with open(r\"sat_alpha_146.pickle\", \"rb\") as f:\n",
    "    sat146 = pickle.load(f, encoding='latin1')\n",
    "    \n",
    "with open(r\"host_halo_alpha_146.pickle\", \"rb\") as f:\n",
    "    host_halo146 = pickle.load(f, encoding='latin1')\n",
    "    \n",
    "with open(r\"rproj_alpha_146.pickle\", \"rb\") as f:\n",
    "    rproj146 = pickle.load(f, encoding='latin1')\n",
    "    \n",
    "with open(r\"vproj_alpha_146.pickle\", \"rb\") as f:\n",
    "    vproj146 = pickle.load(f, encoding='latin1')\n",
    "    \n",
    "with open(r\"Mr_alpha_146.pickle\", \"rb\") as f:\n",
    "    Mr146 = pickle.load(f, encoding='latin1')"
   ]
  },
  {
   "cell_type": "code",
   "execution_count": 14,
   "metadata": {},
   "outputs": [],
   "source": [
    "sigma_M_sats = 0.15\n",
    "\n",
    "def draw_Mr_simple(Mr_mean,sigma_M):\n",
    "    L_mean = 10**((-1.*Mr_mean + 4.81)/2.5 + np.log10(2))\n",
    "    L= np.random.lognormal(np.log(L_mean),(np.log(10)*sigma_M))\n",
    "    return -1.*(2.5*(np.log10(L)-np.log10(2))-4.81)\n",
    "\n",
    "def actual_Mr_for_sats(satex, Mrex):\n",
    "    x = {}\n",
    "    for host in satex.keys():\n",
    "        if len(satex[host])>0:\n",
    "            x[host] = []\n",
    "            for i in range(len(Mrex[host])):\n",
    "                x[host].append(draw_Mr_simple(Mrex[host][i], sigma_M_sats))\n",
    "    return x  \n"
   ]
  },
  {
   "cell_type": "code",
   "execution_count": 16,
   "metadata": {},
   "outputs": [],
   "source": [
    "pred_Mr139 = actual_Mr_for_sats(sat139, Mr139)\n",
    "#pred_Mr143 = actual_Mr_for_sats(sat143, Mr143)\n",
    "pred_Mr146 = actual_Mr_for_sats(sat146, Mr146)\n",
    "\n",
    "def predicting_LMCs(satex, Mrex):\n",
    "    x = {}\n",
    "    for key in satex.keys():\n",
    "        x[key] = []\n",
    "        for i in range(len(satex[key])):\n",
    "            x[key].append(len(Mrex[key][i][Mrex[key][i]<-18.3]))\n",
    "    return x\n",
    "pred_LMC_139 = predicting_LMCs(sat139, pred_Mr139)\n",
    "#pred_LMC_143 = predicting_LMCs(sat143, pred_Mr143)\n",
    "pred_LMC_146 = predicting_LMCs(sat146, pred_Mr146)"
   ]
  },
  {
   "cell_type": "code",
   "execution_count": 17,
   "metadata": {},
   "outputs": [],
   "source": [
    "p3_pred_Mr143 = actual_Mr_for_sats(p3_sat143, p3_Mr143)"
   ]
  },
  {
   "cell_type": "code",
   "execution_count": 25,
   "metadata": {
    "scrolled": true
   },
   "outputs": [
    {
     "ename": "AttributeError",
     "evalue": "'ObjectCatalog' object has no attribute 'load_combined_base_catalog'",
     "output_type": "error",
     "traceback": [
      "\u001b[0;31m---------------------------------------------------------------------------\u001b[0m",
      "\u001b[0;31mAttributeError\u001b[0m                            Traceback (most recent call last)",
      "\u001b[0;32m<ipython-input-25-62dac6d59b75>\u001b[0m in \u001b[0;36m<module>\u001b[0;34m\u001b[0m\n\u001b[1;32m      9\u001b[0m \u001b[0;31m#https://rutgers.box.com/shared/static/sthpa2t4kxr64bci0794qyb8h8hccmdn.fits\u001b[0m\u001b[0;34m\u001b[0m\u001b[0;34m\u001b[0m\u001b[0;34m\u001b[0m\u001b[0m\n\u001b[1;32m     10\u001b[0m \u001b[0;31m#sats = FitsTable(sats_url).read()\u001b[0m\u001b[0;34m\u001b[0m\u001b[0;34m\u001b[0m\u001b[0;34m\u001b[0m\u001b[0m\n\u001b[0;32m---> 11\u001b[0;31m \u001b[0mbase\u001b[0m \u001b[0;34m=\u001b[0m \u001b[0msaga\u001b[0m\u001b[0;34m.\u001b[0m\u001b[0mobject_catalog\u001b[0m\u001b[0;34m.\u001b[0m\u001b[0mload_combined_base_catalog\u001b[0m\u001b[0;34m(\u001b[0m\u001b[0;34m)\u001b[0m\u001b[0;34m\u001b[0m\u001b[0;34m\u001b[0m\u001b[0m\n\u001b[0m\u001b[1;32m     12\u001b[0m \u001b[0mbase\u001b[0m \u001b[0;34m=\u001b[0m \u001b[0msaga\u001b[0m\u001b[0;34m.\u001b[0m\u001b[0mhost_catalog\u001b[0m\u001b[0;34m.\u001b[0m\u001b[0mconstruct_host_query\u001b[0m\u001b[0;34m(\u001b[0m\u001b[0;34m\"paper3\"\u001b[0m\u001b[0;34m)\u001b[0m\u001b[0;34m.\u001b[0m\u001b[0mfilter\u001b[0m\u001b[0;34m(\u001b[0m\u001b[0mbase\u001b[0m\u001b[0;34m)\u001b[0m\u001b[0;34m\u001b[0m\u001b[0;34m\u001b[0m\u001b[0m\n\u001b[1;32m     13\u001b[0m \u001b[0msats\u001b[0m \u001b[0;34m=\u001b[0m \u001b[0mC\u001b[0m\u001b[0;34m.\u001b[0m\u001b[0mis_sat\u001b[0m\u001b[0;34m.\u001b[0m\u001b[0mfilter\u001b[0m\u001b[0;34m(\u001b[0m\u001b[0mbase\u001b[0m\u001b[0;34m)\u001b[0m\u001b[0;34m\u001b[0m\u001b[0;34m\u001b[0m\u001b[0m\n",
      "\u001b[0;31mAttributeError\u001b[0m: 'ObjectCatalog' object has no attribute 'load_combined_base_catalog'"
     ]
    }
   ],
   "source": [
    "hosts = saga.host_catalog.load(include_stats=\"remote\")\n",
    "p3_complete_hosts = saga.host_catalog.load(query=\"paper3\", include_stats=\"remote\")\n",
    "p2_complete_hosts = saga.host_catalog.load(query=\"paper2_complete\", include_stats=\"remote\")\n",
    "observed_hosts = saga.host_catalog.load(query=\"observed\", include_stats=\"remote\")\n",
    "\n",
    "from SAGA import ObjectCuts as C\n",
    "#hosts = saga.host_catalog.load(query = \"completed\", include_stats = True)[\"HOSTID\"]\n",
    "#sats_url = \"https://rutgers.box.com/shared/static/kcsh8jg2yodhv43gowbpoyaaw2efrp02.fits\"\n",
    "#https://rutgers.box.com/shared/static/sthpa2t4kxr64bci0794qyb8h8hccmdn.fits\n",
    "#sats = FitsTable(sats_url).read()\n",
    "base = saga.object_catalog.load_combined_base_catalog()\n",
    "base = saga.host_catalog.construct_host_query(\"paper3\").filter(base)\n",
    "sats = C.is_sat.filter(base)\n",
    "\n",
    "# To extract satellites from complete hosts\n",
    "p3_complete_host_query = saga.host_catalog.construct_host_query(\"paper3\")\n",
    "sats_complete_hosts = p3_complete_host_query.filter(sats)\n",
    "p2_complete_host_query = saga.host_catalog.construct_host_query(\"paper2_complete\")\n",
    "p2_sats_complete_hosts = p2_complete_host_query.filter(sats)"
   ]
  },
  {
   "cell_type": "code",
   "execution_count": 20,
   "metadata": {},
   "outputs": [
    {
     "ename": "NameError",
     "evalue": "name 'sats_complete_hosts' is not defined",
     "output_type": "error",
     "traceback": [
      "\u001b[0;31m---------------------------------------------------------------------------\u001b[0m",
      "\u001b[0;31mNameError\u001b[0m                                 Traceback (most recent call last)",
      "\u001b[0;32m<ipython-input-20-9c8d869ab9df>\u001b[0m in \u001b[0;36m<module>\u001b[0;34m\u001b[0m\n\u001b[1;32m      3\u001b[0m \u001b[0msats_complete_hosts_sorted\u001b[0m \u001b[0;34m=\u001b[0m \u001b[0;34m{\u001b[0m\u001b[0;34m}\u001b[0m\u001b[0;34m\u001b[0m\u001b[0;34m\u001b[0m\u001b[0m\n\u001b[1;32m      4\u001b[0m \u001b[0;34m\u001b[0m\u001b[0m\n\u001b[0;32m----> 5\u001b[0;31m \u001b[0;32mfor\u001b[0m \u001b[0mhost\u001b[0m \u001b[0;32min\u001b[0m \u001b[0mnp\u001b[0m\u001b[0;34m.\u001b[0m\u001b[0munique\u001b[0m\u001b[0;34m(\u001b[0m\u001b[0msats_complete_hosts\u001b[0m\u001b[0;34m[\u001b[0m\u001b[0;34m'HOSTID'\u001b[0m\u001b[0;34m]\u001b[0m\u001b[0;34m)\u001b[0m\u001b[0;34m:\u001b[0m\u001b[0;34m\u001b[0m\u001b[0;34m\u001b[0m\u001b[0m\n\u001b[0m\u001b[1;32m      6\u001b[0m     \u001b[0mhost_sats\u001b[0m\u001b[0;34m[\u001b[0m\u001b[0mhost\u001b[0m\u001b[0;34m]\u001b[0m \u001b[0;34m=\u001b[0m \u001b[0mlen\u001b[0m\u001b[0;34m(\u001b[0m\u001b[0msats_complete_hosts\u001b[0m\u001b[0;34m[\u001b[0m\u001b[0mnp\u001b[0m\u001b[0;34m.\u001b[0m\u001b[0mlogical_and\u001b[0m\u001b[0;34m(\u001b[0m\u001b[0msats_complete_hosts\u001b[0m\u001b[0;34m[\u001b[0m\u001b[0;34m'HOSTID'\u001b[0m\u001b[0;34m]\u001b[0m\u001b[0;34m==\u001b[0m\u001b[0mhost\u001b[0m\u001b[0;34m,\u001b[0m \u001b[0msats_complete_hosts\u001b[0m\u001b[0;34m[\u001b[0m\u001b[0;34m'Mr'\u001b[0m\u001b[0;34m]\u001b[0m\u001b[0;34m<=\u001b[0m\u001b[0;36m12.3\u001b[0m\u001b[0;34m)\u001b[0m\u001b[0;34m]\u001b[0m\u001b[0;34m)\u001b[0m\u001b[0;34m\u001b[0m\u001b[0;34m\u001b[0m\u001b[0m\n\u001b[1;32m      7\u001b[0m     \u001b[0mp3_complete_hosts_sorted\u001b[0m\u001b[0;34m[\u001b[0m\u001b[0mhost\u001b[0m\u001b[0;34m]\u001b[0m \u001b[0;34m=\u001b[0m \u001b[0mp3_complete_hosts\u001b[0m\u001b[0;34m[\u001b[0m\u001b[0mp3_complete_hosts\u001b[0m\u001b[0;34m[\u001b[0m\u001b[0;34m'HOSTID'\u001b[0m\u001b[0;34m]\u001b[0m\u001b[0;34m==\u001b[0m\u001b[0mhost\u001b[0m\u001b[0;34m]\u001b[0m\u001b[0;34m\u001b[0m\u001b[0;34m\u001b[0m\u001b[0m\n",
      "\u001b[0;31mNameError\u001b[0m: name 'sats_complete_hosts' is not defined"
     ]
    }
   ],
   "source": [
    "host_sats = {}\n",
    "p3_complete_hosts_sorted = {}\n",
    "sats_complete_hosts_sorted = {}\n",
    "\n",
    "for host in np.unique(sats_complete_hosts['HOSTID']):\n",
    "    host_sats[host] = len(sats_complete_hosts[np.logical_and(sats_complete_hosts['HOSTID']==host, sats_complete_hosts['Mr']<=12.3)])\n",
    "    p3_complete_hosts_sorted[host] = p3_complete_hosts[p3_complete_hosts['HOSTID']==host]\n",
    "    sats_complete_hosts_sorted[host] = sats_complete_hosts[sats_complete_hosts['HOSTID']==host]\n",
    "    \n",
    "host_sats = {k: v for k, v in sorted(host_sats.items(), key=lambda item: item[1])} #sort by number of satellite"
   ]
  },
  {
   "cell_type": "code",
   "execution_count": null,
   "metadata": {},
   "outputs": [],
   "source": [
    "p2_host_sats = {}\n",
    "p2_complete_hosts_sorted = {}\n",
    "p2_sats_complete_hosts_sorted = {}\n",
    "\n",
    "for host in np.unique(p2_sats_complete_hosts['HOSTID']):\n",
    "    p2_host_sats[host] = len(p2_sats_complete_hosts[np.logical_and(p2_sats_complete_hosts['HOSTID']==host, p2_sats_complete_hosts['Mr']<=12.3)])\n",
    "    p2_complete_hosts_sorted[host] = p2_complete_hosts[p2_complete_hosts['HOSTID']==host]\n",
    "    p2_sats_complete_hosts_sorted[host] = p2_sats_complete_hosts[p2_sats_complete_hosts['HOSTID']==host]\n",
    "    \n",
    "p2_host_sats = {k: v for k, v in sorted(host_sats.items(), key=lambda item: item[1])} #sort by number of satellites"
   ]
  },
  {
   "cell_type": "code",
   "execution_count": null,
   "metadata": {},
   "outputs": [],
   "source": [
    "mw_m31_list = {'sat_num': [5, 9], 'K_ABS': [-24.0, -24.7], 'Virial Mass': [12.2, 12.54]}\n",
    "mw_m31 = pd.DataFrame(mw_m31_list, columns = ['sat_num', 'K_ABS', 'Virial Mass'], index = ['Milky Way', 'M31'])"
   ]
  },
  {
   "cell_type": "code",
   "execution_count": null,
   "metadata": {},
   "outputs": [],
   "source": [
    "bonus_prop_c = {'Name': ['nsa126115', 'nsa129237', 'nsa129387', 'nsa132339', 'nsa133115', 'nsa133355', 'nsa13927', 'nsa139467', 'nsa141465', 'nsa143856', 'nsa144953', 'nsa145729', 'nsa145879', 'nsa147100', 'nsa147606', 'nsa149781', 'nsa149977', 'nsa150887', 'nsa157374', 'nsa161174', 'nsa163956', 'nsa165536', 'nsa165707', 'nsa165980', 'nsa166313', 'nsa32', 'nsa33446', 'nsa3469', 'nsa51348', 'nsa61945', 'nsa69028', 'nsa94340', 'pgc18880', 'pgc66318', 'pgc66934', 'pgc67782', 'pgc67817', 'nsa145372', 'nsa35340', 'nsa133549', 'nsa140458', 'nsa16235', 'pgc64725'], 'K_band': [1.46, 1.089, 1.282, 1.176, 1.025, 1.245, 1.082, 1.204, 1.80, 1.178, 1.10, 1.108, 1.034, 1.08, 1.035, 1.0496, 1.186, 8.351, 1.099, 1.247, 1.047, 1.187, 1.017, 1.161, 1.0684, 1.221, 1.139, 1.122, 1.236, 1.123, 1.0919, 1.099, 1.130, 1.023, 1.0798, 1.168, 1.023, 1.197, 1.156, 'NaN', 'NaN', 'NaN', 'NaN'], 'R_band': [1.14, 'NaN', 'NaN', 1.183, 1.19, 1.251, 1.158, 1.233, 1.172, 1.678, 1.263, 1.183, 'NaN', 'NaN', 1.497, 1.292, 1.266, 1.135, 1.211, 1.256, 1.213, 1.197, 1.281, 1.254, 1.164, 1.12, 1.184, 1.305, 1.245, 1.303, 1.214, 1.279, 1.244, 1.107, 1.11, 1.272, 1.131, 1.232, 1.364, 'NaN', 'NaN', 'NaN', 'NaN'], 'Morphology': ['SAbc', 'S', 'SAB(rs)c', 'SB(r)a', 'E3', 'SA(s)bc', 'SAB(r)a', 'SAB(rs)c', '(R)SB(r)0/a', 'SAB(s)c', 'Sa', 'SB(rs)b', 'S0^0', 'SAB(rs)c', 'S0', 'S0^0', 'Sab', 'SB(rs)bc', '(R)SAB0^+(rs)', 'SA(r)b', 'Sbc', 'SB(r)0/a', 'Sb', 'SBdm', 'SA(r)c', 'SA(s)c', 'SB(s)b', 'SAbc', '(R)SA(rs)b', 'SAB(r)b', '(R)SAB(r)a', '(R)SB(rs)ab', 'SB(rs)bc', 'E6', 'SBa', 'Sbc', 'SA0^-', 'Sc?', 'Sa', 'Sc', 'SAbc', 'Sa', 'E5']}\n",
    "df_bonus_prop_c = pd.DataFrame(bonus_prop_c)\n",
    "df_morph_prop={}\n",
    "index = -1\n",
    "for key in df_bonus_prop_c['Name']:\n",
    "    index = index+1\n",
    "    if df_bonus_prop_c['Morphology'][index] == 'SAbc': \n",
    "        df_morph_prop[key] = 'SA'\n",
    "    if df_bonus_prop_c['Morphology'][index]== 'SA(r)c':\n",
    "        df_morph_prop[key] = 'SA'\n",
    "    if df_bonus_prop_c['Morphology'][index] =='SA(s)bc' :\n",
    "        df_morph_prop[key] = 'SA'\n",
    "    if df_bonus_prop_c['Morphology'][index]== 'SA(r)b': \n",
    "        df_morph_prop[key] = 'SA'\n",
    "    if df_bonus_prop_c['Morphology'][index]==  'SA(s)c' :\n",
    "        df_morph_prop[key] = 'SA'\n",
    "    if df_bonus_prop_c['Morphology'][index] == '(R)SA(rs)b':\n",
    "        df_morph_prop[key] = 'SA'\n",
    "    if df_bonus_prop_c['Morphology'][index] == 'SA0^-':\n",
    "        df_morph_prop[key] = 'SA'\n",
    "    if 'SAB' in df_bonus_prop_c['Morphology'][index]:\n",
    "        df_morph_prop[key] = 'SAB'\n",
    "    if 'SB' in df_bonus_prop_c['Morphology'][index]:\n",
    "        df_morph_prop[key] = 'SB'\n",
    "    if 'S0' in df_bonus_prop_c['Morphology'][index]:\n",
    "        df_morph_prop[key] = 'S0'\n",
    "    if df_bonus_prop_c['Morphology'][index] == 'S':\n",
    "        df_morph_prop[key] = 'S'\n",
    "    if df_bonus_prop_c['Morphology'][index] == 'Sa': \n",
    "        df_morph_prop[key] = 'S'\n",
    "    if df_bonus_prop_c['Morphology'][index] == 'Sab':\n",
    "        df_morph_prop[key] = 'S'\n",
    "    if df_bonus_prop_c['Morphology'][index] == 'Sbc': \n",
    "        df_morph_prop[key] = 'S'\n",
    "    if df_bonus_prop_c['Morphology'][index] == 'Sb':\n",
    "        df_morph_prop[key] = 'S'\n",
    "    if df_bonus_prop_c['Morphology'][index] == 'Sc?':\n",
    "        df_morph_prop[key] = 'S'\n",
    "    if df_bonus_prop_c['Morphology'][index] == 'Sc':\n",
    "        df_morph_prop[key] = 'S'\n",
    "    if 'E' in df_bonus_prop_c['Morphology'][index]:\n",
    "        df_morph_prop[key] = 'E'\n",
    "df_morph_prop_condensed = {}\n",
    "index = -1\n",
    "for key in df_morph_prop.keys():\n",
    "    index = index+1\n",
    "    if df_morph_prop[key] == 'S0':\n",
    "        df_morph_prop_condensed[key] = 'E/S0'\n",
    "    if df_morph_prop[key] == 'S':\n",
    "        df_morph_prop_condensed[key] = 'SAB'\n",
    "    if df_morph_prop[key] == 'SA':\n",
    "        df_morph_prop_condensed[key] = 'SAB'\n",
    "    if df_morph_prop[key] == 'SB':\n",
    "        df_morph_prop_condensed[key] = 'SAB'\n",
    "    if df_morph_prop[key] == 'SAB':\n",
    "        df_morph_prop_condensed[key] = 'SAB'\n",
    "    if df_morph_prop[key] == 'E':\n",
    "        df_morph_prop_condensed[key] = 'E/S0'\n",
    "df_morph_prop_condensed['nsa127226'] = 'SAB'\n",
    "df_morph_prop_condensed['nsa130133'] = 'E/S0'\n",
    "df_morph_prop_condensed['nsa132368'] = 'E/S0'\n",
    "df_morph_prop_condensed['nsa133141'] = 'E/S0'\n",
    "df_morph_prop_condensed['nsa135591'] = 'SAB'\n",
    "df_morph_prop_condensed['nsa135739'] = 'E/S0'\n",
    "df_morph_prop_condensed['nsa141315'] = 'E/S0'\n",
    "df_morph_prop_condensed['nsa14409'] = 'SAB'\n",
    "df_morph_prop_condensed['nsa144151'] = 'SAB'\n",
    "df_morph_prop_condensed['nsa145297'] = 'E/S0'\n",
    "df_morph_prop_condensed['nsa146486'] = 'E/S0'\n",
    "df_morph_prop_condensed['nsa150307'] = 'SAB'\n",
    "df_morph_prop_condensed['nsa150578'] = 'SAB'\n",
    "df_morph_prop_condensed['nsa153017'] = 'SAB'\n",
    "df_morph_prop_condensed['nsa155005'] = 'SAB'\n",
    "df_morph_prop_condensed['nsa157300'] = 'SAB'\n",
    "df_morph_prop_condensed['nsa158901'] = 'SAB'\n",
    "df_morph_prop_condensed['nsa159593'] = 'SAB'\n",
    "df_morph_prop_condensed['nsa160302'] = 'SAB'\n",
    "df_morph_prop_condensed['nsa164865'] = 'E/S0'\n",
    "df_morph_prop_condensed['nsa165162'] = 'SAB'\n",
    "df_morph_prop_condensed['nsa165316'] = 'SAB'\n",
    "df_morph_prop_condensed['nsa16559'] = 'SAB'\n",
    "df_morph_prop_condensed['nsa165956'] = 'SAB'\n",
    "df_morph_prop_condensed['nsa169439'] = 'SAB'\n",
    "df_morph_prop_condensed['nsa52773'] = 'SAB'\n",
    "df_morph_prop_condensed['nsa56434'] = 'SAB'\n",
    "df_morph_prop_condensed['nsa67593'] = 'SAB'\n",
    "df_morph_prop_condensed['nsa85746'] = 'SAB'\n",
    "df_morph_prop_condensed['nsa94217'] = 'SAB'\n",
    "df_morph_prop_condensed['pgc10330'] = 'SAB'\n",
    "df_morph_prop_condensed['pgc12342'] = 'SAB'\n",
    "df_morph_prop_condensed['pgc13108'] = 'SAB'\n",
    "df_morph_prop_condensed['pgc13166'] = 'SAB'\n",
    "df_morph_prop_condensed['pgc16044'] = 'SAB'\n",
    "df_morph_prop_condensed['pgc1952'] = 'SAB'\n",
    "df_morph_prop_condensed['pgc31636'] = 'E/S0'\n",
    "df_morph_prop_condensed['pgc36304'] = 'E/S0'\n",
    "df_morph_prop_condensed['pgc45643'] = 'SAB'\n",
    "df_morph_prop_condensed['pgc50670'] = 'E/S0'\n",
    "df_morph_prop_condensed['pgc51055'] = 'SAB'\n",
    "df_morph_prop_condensed['pgc53630'] = 'E/S0'\n",
    "df_morph_prop_condensed['pgc57345'] = 'SAB'\n",
    "df_morph_prop_condensed['pgc66566'] = 'SAB'\n",
    "df_morph_prop_condensed['pgc66669'] = 'SAB'\n",
    "df_morph_prop_condensed['pgc67146'] = 'E/S0'\n",
    "df_morph_prop_condensed['pgc67532'] = 'SAB'\n",
    "df_morph_prop_condensed['pgc67663'] = 'SAB'\n",
    "df_morph_prop_condensed['pgc68312'] = 'SAB'\n",
    "df_morph_prop_condensed['pgc69677'] = 'SAB'\n",
    "df_morph_prop_condensed['pgc72009'] = 'SAB'\n",
    "df_morph_prop_condensed['pgc72060'] = 'SAB'\n",
    "df_morph_prop_condensed['pgc8279'] = 'SAB'\n",
    "df_morph_prop_condensed['pgc9747'] = 'SAB'"
   ]
  },
  {
   "cell_type": "code",
   "execution_count": null,
   "metadata": {},
   "outputs": [],
   "source": [
    "#converting completed_hosts to dataframe!\n",
    "df_p3_completed_hosts = p3_complete_hosts.to_pandas()\n",
    "#creating 2 separate dataframes for with or without LMC\n",
    "df_p3_with_LMC = df_p3_completed_hosts\n",
    "df_p3_without_LMC = df_p3_completed_hosts\n",
    "index = -1\n",
    "for key in p3_hosts_LMCs:\n",
    "    index = index+1\n",
    "    if p3_hosts_LMCs[key] == True: \n",
    "        df_p3_without_LMC = df_p3_without_LMC.drop([index])\n",
    "    if p3_hosts_LMCs[key] == False:\n",
    "        df_p3_with_LMC = df_p3_with_LMC.drop([index])"
   ]
  },
  {
   "cell_type": "code",
   "execution_count": null,
   "metadata": {},
   "outputs": [],
   "source": [
    "df_p3_completed_hosts = p3_complete_hosts.to_pandas()\n",
    "p3_SAB = df_p3_completed_hosts\n",
    "p3_ES0 = df_p3_completed_hosts\n",
    "index = -1\n",
    "for key in df_p3_completed_hosts['HOSTID']:\n",
    "    index = index+1\n",
    "    if df_morph_prop_condensed[key] == 'SAB': \n",
    "        p3_ES0 = p3_ES0.drop([index])\n",
    "    if df_morph_prop_condensed[key] == 'E/S0': \n",
    "        p3_SAB = p3_SAB.drop([index])\n",
    "p3_SAB = p3_SAB.reset_index(drop = True)\n",
    "p3_ES0 = p3_ES0.reset_index(drop = True)"
   ]
  },
  {
   "cell_type": "code",
   "execution_count": null,
   "metadata": {},
   "outputs": [],
   "source": [
    "p3_LMC_SAB = df_p3_with_LMC\n",
    "p3_LMC_ES0 = df_p3_with_LMC\n",
    "for host in df_p3_with_LMC['HOSTID']:\n",
    "    index = df_p3_with_LMC[df_p3_with_LMC['HOSTID'] == host].index.values\n",
    "    if df_morph_prop_condensed[host] == 'E/S0':\n",
    "        p3_LMC_SAB = p3_LMC_SAB.drop(index)\n",
    "    if df_morph_prop_condensed[host] == 'SAB':\n",
    "        p3_LMC_ES0 = p3_LMC_ES0.drop(index)\n",
    "        \n",
    "p3_no_LMC_SAB = df_p3_without_LMC\n",
    "p3_no_LMC_ES0 = df_p3_without_LMC\n",
    "for host in df_p3_without_LMC['HOSTID']:\n",
    "    index = df_p3_without_LMC[df_p3_without_LMC['HOSTID'] == host].index.values\n",
    "    if df_morph_prop_condensed[host] == 'E/S0':\n",
    "        p3_no_LMC_SAB = p3_no_LMC_SAB.drop(index)\n",
    "    if df_morph_prop_condensed[host] == 'SAB':\n",
    "        p3_no_LMC_ES0 = p3_no_LMC_ES0.drop(index)"
   ]
  },
  {
   "cell_type": "code",
   "execution_count": null,
   "metadata": {},
   "outputs": [],
   "source": [
    "rproj_arr = []\n",
    "i = 300\n",
    "while i>=50:\n",
    "    rproj_arr.append(i)\n",
    "    i = i -25"
   ]
  },
  {
   "cell_type": "code",
   "execution_count": null,
   "metadata": {},
   "outputs": [],
   "source": [
    "Mr_arr_extend = []\n",
    "i = -10.5\n",
    "while i>-20.75:\n",
    "    Mr_arr_extend.append(i)\n",
    "    i=i-0.25"
   ]
  },
  {
   "cell_type": "code",
   "execution_count": null,
   "metadata": {},
   "outputs": [],
   "source": [
    "mag_gap_arr = []\n",
    "i = -3.5\n",
    "while i>-11.5:\n",
    "    mag_gap_arr.append(i)\n",
    "    i = i -0.5"
   ]
  },
  {
   "cell_type": "markdown",
   "metadata": {},
   "source": [
    "### Functions"
   ]
  },
  {
   "cell_type": "code",
   "execution_count": null,
   "metadata": {},
   "outputs": [],
   "source": [
    "def jacknifing_hosts_ids(table, x):\n",
    "    host_arr = []\n",
    "    unit = int(len(table['HOSTID'])/x)\n",
    "    unit_og = int(len(table['HOSTID'])/x)\n",
    "    j = 0\n",
    "    hosts = []\n",
    "    while j<=unit:\n",
    "        if j >= len(table['HOSTID']):\n",
    "            break\n",
    "        hosts.append(table['HOSTID'][j])\n",
    "        if j == unit:\n",
    "            j=unit\n",
    "            unit = unit+unit_og\n",
    "            host_arr.append(hosts)\n",
    "            hosts = [] \n",
    "        j = j+1\n",
    "    return host_arr"
   ]
  },
  {
   "cell_type": "code",
   "execution_count": null,
   "metadata": {},
   "outputs": [],
   "source": [
    "def luminosity_distribution_sims(lums, rads, rprojs):\n",
    "    #this function takes the luminosities for all the simulated satellites, their projected radii, and an array of radial cuts\n",
    "    lum_rad = {}\n",
    "    for key in lums.keys():\n",
    "        lum_rad[key] = []\n",
    "        randnum = np.random.randint(len(lums[key]))\n",
    "        \n",
    "        for i in range(len(rprojs)):\n",
    "            rad_bound = rprojs[i]\n",
    "            bright = np.min(lums[key][randnum])\n",
    "            ind = list(lums[key][randnum]).index(np.min(lums[key][randnum])) \n",
    "            rad_sat = rads[key][randnum][ind]\n",
    "            if rad_sat<=rad_bound:\n",
    "                \n",
    "                lum_rad[key].append([rad_bound, bright])\n",
    "            else:\n",
    "                sat_mag = 0\n",
    "                for j in range(len(lums[key][randnum])):\n",
    "                    if rads[key][randnum][j]<=rad_bound and lums[key][randnum][j]<=sat_mag:\n",
    "                        sat_mag = lums[key][randnum][j]\n",
    "                lum_rad[key].append([rad_bound, sat_mag])\n",
    "    return lum_rad"
   ]
  },
  {
   "cell_type": "code",
   "execution_count": null,
   "metadata": {},
   "outputs": [],
   "source": [
    "def occ_rate_luminosities_with_radial_cut(index, rad, lum_arr):\n",
    "    #index is your index of choice which determines what radial cut you'll be looking at\n",
    "    #rad is the data structure your trying to determine the occurrence rate of\n",
    "    #lum_arr is an array of luminosities to compare against\n",
    "    occs = {}\n",
    "    for i in range(len(lum_arr)):\n",
    "        num_true = 0\n",
    "        for key in rad.keys():\n",
    "            if rad[key][index][1]<lum_arr[i]:\n",
    "                num_true+=1\n",
    "        occs[lum_arr[i]] = num_true/len(rad.keys())\n",
    "    return occs"
   ]
  },
  {
   "cell_type": "code",
   "execution_count": null,
   "metadata": {},
   "outputs": [],
   "source": []
  },
  {
   "cell_type": "code",
   "execution_count": null,
   "metadata": {},
   "outputs": [],
   "source": [
    "def occ_rate_mg_with_radial_cut(index, mg_rad, mg_arr):\n",
    "    #index is your index of choice which determines what radial cut you'll be looking at\n",
    "    #mg_rad is the data structure your trying to determine the occurrence rate of\n",
    "    #mg_arr is an array of gaps to compare against\n",
    "    mg_occs = {}\n",
    "    for i in range(len(mg_arr)):\n",
    "        num_true = 0\n",
    "        for key in mg_rad.keys():\n",
    "            if mg_rad[key][index][1]>mg_arr[i] and mg_rad[key][index][1]!=0:\n",
    "                num_true+=1\n",
    "        mg_occs[mg_arr[i]] = num_true/len(mg_rad.keys())\n",
    "    return mg_occs"
   ]
  },
  {
   "cell_type": "code",
   "execution_count": null,
   "metadata": {},
   "outputs": [],
   "source": [
    "def LMCs_sat_host_rad(sorted_dictionary_satellites, sorted_dictionary_hosts, host_table, rad_arr):\n",
    "    hosts_LMCs = {}\n",
    "    for key in host_table['HOSTID']:\n",
    "        hosts_LMCs[key] = []\n",
    "        if key in sorted_dictionary_satellites.keys():\n",
    "            for i in range(len(rad_arr)):\n",
    "                rad_bound = rad_arr[i]\n",
    "                rad_sat = sorted_dictionary_satellites[key]['Mr'== np.min(sorted_dictionary_satellites[key][\"Mr\"])]['RHOST_KPC']\n",
    "                \n",
    "                if rad_sat<=rad_bound:\n",
    "                    min_mag = np.sort(sorted_dictionary_satellites[key][\"Mr\"])[0]\n",
    "                    hosts_LMCs[key].append([rad_bound,min_mag])\n",
    "                else:\n",
    "                    sat_mag = 0\n",
    "                    for j in range(len(sorted_dictionary_satellites[key])):\n",
    "                        if sorted_dictionary_satellites[key]['RHOST_KPC'][j] <= rad_arr[i] and sorted_dictionary_satellites[key]['Mr'][j]<sat_mag:\n",
    "                            sat_mag = sorted_dictionary_satellites[key]['Mr'][j]\n",
    "                    hosts_LMCs[key].append([rad_bound, sat_mag])\n",
    "        else: \n",
    "            for i in range(len(rad_arr)):\n",
    "                rad_bound = rad_arr[i]\n",
    "                hosts_LMCs[key].append([rad_bound, 0])\n",
    "    return hosts_LMCs"
   ]
  },
  {
   "cell_type": "code",
   "execution_count": null,
   "metadata": {},
   "outputs": [],
   "source": [
    "def LMCs_sat_host_rad_jk(sorted_dictionary_satellites, sorted_dictionary_hosts, host_list, rad_arr):\n",
    "    hosts_LMCs = {}\n",
    "    for i in range(len(host_list)):\n",
    "        key = host_list[i]\n",
    "        hosts_LMCs[key] = []\n",
    "        if key in sorted_dictionary_satellites.keys():\n",
    "            for i in range(len(rad_arr)):\n",
    "                rad_bound = rad_arr[i]\n",
    "                rad_sat = sorted_dictionary_satellites[key]['Mr'== np.min(sorted_dictionary_satellites[key][\"Mr\"])]['RHOST_KPC']\n",
    "                \n",
    "                if rad_sat<=rad_bound:\n",
    "                    min_mag = np.sort(sorted_dictionary_satellites[key][\"Mr\"])[0]\n",
    "                    hosts_LMCs[key].append([rad_bound, min_mag])\n",
    "                else:\n",
    "                    sat_mag = 0\n",
    "                    for j in range(len(sorted_dictionary_satellites[key])):\n",
    "                        if sorted_dictionary_satellites[key]['RHOST_KPC'][j] <= rad_arr[i] and sorted_dictionary_satellites[key]['Mr'][j]<sat_mag:\n",
    "                            sat_mag = sorted_dictionary_satellites[key]['Mr'][j]\n",
    "                    hosts_LMCs[key].append([rad_bound, sat_mag])\n",
    "        else: \n",
    "            for i in range(len(rad_arr)):\n",
    "                rad_bound = rad_arr[i]\n",
    "                hosts_LMCs[key].append([rad_bound, 0])\n",
    "    return hosts_LMCs"
   ]
  },
  {
   "cell_type": "code",
   "execution_count": null,
   "metadata": {},
   "outputs": [],
   "source": [
    "def magnitude_gap_sat_host_rad(sorted_dictionary_satellites, sorted_dictionary_hosts, host_table, rad_arr):\n",
    "    mag_gap = {}\n",
    "    for key in host_table['HOSTID']:\n",
    "        mag_gap[key] = []\n",
    "        if key in sorted_dictionary_satellites.keys():\n",
    "            for i in range(len(rad_arr)):\n",
    "                rad_bound = rad_arr[i]\n",
    "                rad_sat = sorted_dictionary_satellites[key]['Mr'== np.min(sorted_dictionary_satellites[key][\"Mr\"])]['RHOST_KPC']\n",
    "                host_mag = sorted_dictionary_hosts[key][\"K_ABS\"][0]\n",
    "                if rad_sat<=rad_bound:\n",
    "                    min_mag = np.sort(sorted_dictionary_satellites[key][\"Mr\"])[0]\n",
    "                    gap = host_mag-min_mag\n",
    "                    mag_gap[key].append([rad_bound, gap])\n",
    "                else:\n",
    "                    sat_mag = 0\n",
    "                    for j in range(len(sorted_dictionary_satellites[key])):\n",
    "                        if sorted_dictionary_satellites[key]['RHOST_KPC'][j] <= rad_arr[i] and sorted_dictionary_satellites[key]['Mr'][j]<sat_mag:\n",
    "                            sat_mag = sorted_dictionary_satellites[key]['Mr'][j]\n",
    "                    mag_gap[key].append([rad_bound, host_mag-sat_mag])\n",
    "        else: \n",
    "            for i in range(len(rad_arr)):\n",
    "                rad_bound = rad_arr[i]\n",
    "                mag_gap[key].append([rad_bound, 0])\n",
    "    return mag_gap"
   ]
  },
  {
   "cell_type": "code",
   "execution_count": null,
   "metadata": {},
   "outputs": [],
   "source": [
    "def brightest_sat_mg_rad_sims_corr(lums, rads, rprojs, hosts_lum):\n",
    "    mag_gap_rad = {}\n",
    "    for key in lums.keys():\n",
    "        mag_gap_rad[key] = []\n",
    "        randnum = np.random.randint(len(lums[key]))\n",
    "        host_lum = hosts_lum[key][randnum]\n",
    "        for i in range(len(rprojs)):\n",
    "            rad_bound = rprojs[i]\n",
    "            bright = np.min(lums[key][randnum]) - 0.5\n",
    "            ind = list(lums[key][randnum]).index(np.min(lums[key][randnum])) \n",
    "            rad_sat = rads[key][randnum][ind]\n",
    "            if rad_sat<=rad_bound:\n",
    "                gap = host_lum-bright\n",
    "                mag_gap_rad[key].append([rad_bound, gap])\n",
    "            else:\n",
    "                sat_mag = 0\n",
    "                for j in range(len(lums[key][randnum])):\n",
    "                    if rads[key][randnum][j]<=rad_bound and lums[key][randnum][j]<=sat_mag:\n",
    "                        sat_mag = lums[key][randnum][j] -0.5\n",
    "                mag_gap_rad[key].append([rad_bound, host_lum-sat_mag])\n",
    "    return mag_gap_rad"
   ]
  },
  {
   "cell_type": "code",
   "execution_count": null,
   "metadata": {},
   "outputs": [],
   "source": [
    "def select_spirals(matches):\n",
    "    single_matched = {}\n",
    "    for key in matches.keys():\n",
    "        for i in range(len(matches[key])):\n",
    "            if test_matches[key][i] not in single_matched.values():\n",
    "                single_matched[key] = matches[key][i]\n",
    "                break\n",
    "    return single_matched"
   ]
  },
  {
   "cell_type": "code",
   "execution_count": null,
   "metadata": {},
   "outputs": [],
   "source": [
    "def determining_host_count_arr_rproj(table, sorted_dictionary_satellites, rproj, Mr):\n",
    "    hosts_LMCs = {}\n",
    "    for key in table['HOSTID']:\n",
    "        hosts_LMCs[key] = []\n",
    "        for i in range(len(rproj)):\n",
    "            count = 0\n",
    "            if key in sorted_dictionary_satellites.keys():\n",
    "                for j in range(len(sorted_dictionary_satellites[key])):\n",
    "                    if sorted_dictionary_satellites[key][\"Mr\"][j] <= Mr and sorted_dictionary_satellites[key][\"RHOST_KPC\"][j] <= rproj[i]:\n",
    "                        count = count+1\n",
    "            arr = [rproj[i], count]\n",
    "            hosts_LMCs[key].append(arr) \n",
    "    return hosts_LMCs"
   ]
  },
  {
   "cell_type": "code",
   "execution_count": null,
   "metadata": {},
   "outputs": [],
   "source": [
    "def determining_host_count_arr_rproj_sims(lums, rads, rproj, Mr):\n",
    "    hosts_LMCs = {}\n",
    "    for key in lums.keys():\n",
    "        hosts_LMCs[key] = []\n",
    "        randnum = np.random.randint(len(lums[key]))\n",
    "        for i in range(len(rproj)):\n",
    "            count = 0\n",
    "            for j in range(len(lums[key][randnum])):\n",
    "                if lums[key][randnum][j] <= Mr and rads[key][randnum][j] <= rproj[i]:\n",
    "                        count = count+1\n",
    "            arr = [rproj[i], count]\n",
    "            hosts_LMCs[key].append(arr) \n",
    "    return hosts_LMCs"
   ]
  },
  {
   "cell_type": "code",
   "execution_count": null,
   "metadata": {},
   "outputs": [],
   "source": [
    "def ratio_sims_data(sims, data):\n",
    "    ratio = {}\n",
    "    for key in sims.keys():\n",
    "        ratio[key] = sims[key]/data[key]\n",
    "    return ratio"
   ]
  },
  {
   "cell_type": "code",
   "execution_count": null,
   "metadata": {},
   "outputs": [],
   "source": [
    "def determining_mg_count(table, sorted_dictionary_satellites, mgs):\n",
    "    mg_count = {}\n",
    "    for i in range(len(mgs)):\n",
    "        counts = []\n",
    "        for key in table['HOSTID']:\n",
    "            counter = 0\n",
    "            if key in sorted_dictionary_satellites.keys():\n",
    "                for j in range(len(sorted_dictionary_satellites[key])):\n",
    "                    gap = sorted_dictionary_satellites[key]['Mr'][j] - table['K_ABS'][table['HOSTID']==key]\n",
    "                    if gap<mgs[i]:\n",
    "                        counter = counter+1\n",
    "            counts.append(counter)\n",
    "        arr = [np.mean(counts), np.std(counts)]\n",
    "        mg_count[mg_arr[i]] = arr\n",
    "    return mg_count"
   ]
  },
  {
   "cell_type": "code",
   "execution_count": null,
   "metadata": {},
   "outputs": [],
   "source": [
    "def mean_std_lum_rad(lmc_dict):\n",
    "    means = {}\n",
    "    stds = {}\n",
    "    for i in range(len(lmc_dict[list(lmc_dict.keys())[0]])):\n",
    "        tot = []\n",
    "        for key in lmc_dict.keys():\n",
    "            tot.append(lmc_dict[key][i][1])\n",
    "        means[lmc_dict[key][i][0]] = np.mean(tot)\n",
    "        stds[lmc_dict[key][i][0]] = np.std(tot)\n",
    "    return means, stds"
   ]
  },
  {
   "cell_type": "code",
   "execution_count": null,
   "metadata": {},
   "outputs": [],
   "source": [
    "def mean_std_sims(occs):\n",
    "    means = {}\n",
    "    stds = {}\n",
    "    for i in occs[0].keys():\n",
    "        tots = []\n",
    "        for j in range(len(occs)):\n",
    "            tots.append(occs[j][i])\n",
    "        means[i] = np.mean(tots)\n",
    "        stds[i] = np.std(tots)\n",
    "    return means, stds"
   ]
  },
  {
   "cell_type": "code",
   "execution_count": null,
   "metadata": {},
   "outputs": [],
   "source": [
    "def just_mean_std_mg_count(mean_std):\n",
    "    means = []\n",
    "    stds = []\n",
    "    for key in mean_std.keys():\n",
    "        means.append(mean_std[key][0])\n",
    "        stds.append(mean_std[key][1])\n",
    "    return means, stds"
   ]
  },
  {
   "cell_type": "markdown",
   "metadata": {},
   "source": [
    "### Generating Analyzable Data"
   ]
  },
  {
   "cell_type": "code",
   "execution_count": null,
   "metadata": {},
   "outputs": [],
   "source": [
    "jk_hosts_eighth = jacknifing_hosts_ids(p3_complete_hosts, 8)"
   ]
  },
  {
   "cell_type": "code",
   "execution_count": null,
   "metadata": {},
   "outputs": [],
   "source": [
    "jk_hosts_remain_eighth = []\n",
    "for i in range(len(jk_hosts_eighth)):\n",
    "    jk_hosts_left = []\n",
    "    for key in p3_complete_hosts['HOSTID']:\n",
    "        if key not in jk_hosts_eighth[i]:\n",
    "            jk_hosts_left.append(key)\n",
    "    jk_hosts_remain_eighth.append(jk_hosts_left)"
   ]
  },
  {
   "cell_type": "code",
   "execution_count": null,
   "metadata": {},
   "outputs": [],
   "source": [
    "lum_rad = LMCs_sat_host_rad(sats_complete_hosts_sorted, p3_complete_hosts_sorted, p3_complete_hosts, rproj_arr)"
   ]
  },
  {
   "cell_type": "code",
   "execution_count": null,
   "metadata": {},
   "outputs": [],
   "source": [
    "lum_occs_300 = occ_rate_luminosities_with_radial_cut(0, lum_rad ,Mr_arr_extend)\n",
    "lum_occs_200 = occ_rate_luminosities_with_radial_cut(4, lum_rad,Mr_arr_extend)\n",
    "lum_occs_100 = occ_rate_luminosities_with_radial_cut(8, lum_rad,Mr_arr_extend)"
   ]
  },
  {
   "cell_type": "code",
   "execution_count": null,
   "metadata": {},
   "outputs": [],
   "source": [
    "hosts_jk_lum_rad_8 = {}\n",
    "for i in range(len(jk_hosts_remain_eighth)):\n",
    "    hosts_jk_lum_rad_8[i] =  LMCs_sat_host_rad_jk(sats_complete_hosts_sorted,p3_complete_hosts_sorted, jk_hosts_remain_eighth[i], rproj_arr)"
   ]
  },
  {
   "cell_type": "code",
   "execution_count": null,
   "metadata": {},
   "outputs": [],
   "source": [
    "hosts_jk_lum_8_300 = {}\n",
    "for i in hosts_jk_lum_rad_8.keys():\n",
    "    hosts_jk_lum_8_300[i] =  occ_rate_lum_rad(0, hosts_jk_lum_rad_8[i], Mr_arr_extend)\n",
    "hosts_jk_lum_8_200 = {}\n",
    "for i in hosts_jk_lum_rad_8.keys():\n",
    "    hosts_jk_lum_8_200[i] =  occ_rate_lum_rad(4, hosts_jk_lum_rad_8[i], Mr_arr_extend)\n",
    "hosts_jk_lum_8_100 = {}\n",
    "for i in hosts_jk_lum_rad_8.keys():\n",
    "    hosts_jk_lum_8_100[i] =  occ_rate_lum_rad(8, hosts_jk_lum_rad_8[i], Mr_arr_extend)"
   ]
  },
  {
   "cell_type": "code",
   "execution_count": null,
   "metadata": {},
   "outputs": [],
   "source": [
    "std_lum_300 = {}\n",
    "for lum in hosts_jk_lum_8_300[0].keys():\n",
    "    occ_rate = []\n",
    "    for i in hosts_jk_lum_8_300.keys():\n",
    "        occ_rate.append(hosts_jk_lum_8_300[i][lum])\n",
    "    std_lum_300[lum] = np.std(occ_rate)\n",
    "    \n",
    "std_lum_200 = {}\n",
    "for lum in hosts_jk_lum_8_200[0].keys():\n",
    "    occ_rate = []\n",
    "    for i in hosts_jk_lum_8_200.keys():\n",
    "        occ_rate.append(hosts_jk_lum_8_200[i][lum])\n",
    "    std_lum_200[lum] = np.std(occ_rate)\n",
    "    \n",
    "std_lum_100 = {}\n",
    "for lum in hosts_jk_lum_8_100[0].keys():\n",
    "    occ_rate = []\n",
    "    for i in hosts_jk_lum_8_100.keys():\n",
    "        occ_rate.append(hosts_jk_lum_8_100[i][lum])\n",
    "    std_lum_100[lum] = np.std(occ_rate)"
   ]
  },
  {
   "cell_type": "code",
   "execution_count": 7,
   "metadata": {},
   "outputs": [
    {
     "ename": "NameError",
     "evalue": "name 'luminosity_distribution_sims' is not defined",
     "output_type": "error",
     "traceback": [
      "\u001b[0;31m---------------------------------------------------------------------------\u001b[0m",
      "\u001b[0;31mNameError\u001b[0m                                 Traceback (most recent call last)",
      "\u001b[0;32m<ipython-input-7-6c2ea50abf08>\u001b[0m in \u001b[0;36m<module>\u001b[0;34m\u001b[0m\n\u001b[1;32m      1\u001b[0m \u001b[0mp3_lum_sims\u001b[0m \u001b[0;34m=\u001b[0m \u001b[0;34m[\u001b[0m\u001b[0;34m]\u001b[0m\u001b[0;34m\u001b[0m\u001b[0;34m\u001b[0m\u001b[0m\n\u001b[1;32m      2\u001b[0m \u001b[0;32mfor\u001b[0m \u001b[0mi\u001b[0m \u001b[0;32min\u001b[0m \u001b[0mrange\u001b[0m\u001b[0;34m(\u001b[0m\u001b[0;36m3000\u001b[0m\u001b[0;34m)\u001b[0m\u001b[0;34m:\u001b[0m\u001b[0;34m\u001b[0m\u001b[0;34m\u001b[0m\u001b[0m\n\u001b[0;32m----> 3\u001b[0;31m     \u001b[0mp3_lum_sims\u001b[0m\u001b[0;34m.\u001b[0m\u001b[0mappend\u001b[0m\u001b[0;34m(\u001b[0m\u001b[0mluminosity_distribution_sims\u001b[0m\u001b[0;34m(\u001b[0m\u001b[0mp3_pred_Mr143\u001b[0m\u001b[0;34m,\u001b[0m \u001b[0mp3_rproj143\u001b[0m\u001b[0;34m,\u001b[0m \u001b[0mrproj_arr\u001b[0m\u001b[0;34m)\u001b[0m\u001b[0;34m)\u001b[0m\u001b[0;34m\u001b[0m\u001b[0;34m\u001b[0m\u001b[0m\n\u001b[0m",
      "\u001b[0;31mNameError\u001b[0m: name 'luminosity_distribution_sims' is not defined"
     ]
    }
   ],
   "source": [
    "p3_lum_sims = []\n",
    "for i in range(3000):\n",
    "    p3_lum_sims.append(luminosity_distribution_sims(p3_pred_Mr143, p3_rproj143, rproj_arr)) "
   ]
  },
  {
   "cell_type": "code",
   "execution_count": 8,
   "metadata": {},
   "outputs": [],
   "source": [
    "p3_lum_sims_occs_300 = []\n",
    "for i in range(len(p3_lum_sims)):\n",
    "    p3_lum_sims_occs_300.append(occ_rate_with_radial_cut(0, p3_lum_sims[i], Mr_arr_extend))\n",
    "    \n",
    "p3_lum_sims_occs_200 = []\n",
    "for i in range(len(p3_lum_sims)):\n",
    "    p3_lum_sims_occs_200.append(occ_rate_with_radial_cut(4, p3_lum_sims[i], Mr_arr_extend))\n",
    "    \n",
    "p3_lum_sims_occs_100 = []\n",
    "for i in range(len(p3_lum_sims)):\n",
    "    p3_lum_sims_occs_100.append(occ_rate_with_radial_cut(8, p3_lum_sims[i], Mr_arr_extend))"
   ]
  },
  {
   "cell_type": "code",
   "execution_count": 27,
   "metadata": {},
   "outputs": [],
   "source": [
    "p3_lum_sims_occs_300_means, p3_lum_sims_occs_300_stds = mean_std_sims(p3_lum_sims_occs_300)\n",
    "p3_lum_sims_occs_200_means, p3_lum_sims_occs_200_stds = mean_std_sims(p3_lum_sims_occs_200)\n",
    "p3_lum_sims_occs_100_means, p3_lum_sims_occs_100_stds = mean_std_sims(p3_lum_sims_occs_100)"
   ]
  },
  {
   "cell_type": "code",
   "execution_count": null,
   "metadata": {},
   "outputs": [],
   "source": [
    "mag_gap_rad = magnitude_gap_sat_host_rad(sats_complete_hosts_sorted, p3_complete_hosts_sorted, p3_complete_hosts, rproj_arr)"
   ]
  },
  {
   "cell_type": "code",
   "execution_count": null,
   "metadata": {},
   "outputs": [],
   "source": [
    "mg_occs_300 = occ_rate_mg_with_radial_cut(0, mag_gap_rad,mag_gap_arr)\n",
    "mg_occs_200 = occ_rate_mg_with_radial_cut(4, mag_gap_rad,mag_gap_arr)\n",
    "mg_occs_100 = occ_rate_mg_with_radial_cut(8, mag_gap_rad,mag_gap_arr)"
   ]
  },
  {
   "cell_type": "code",
   "execution_count": null,
   "metadata": {},
   "outputs": [],
   "source": [
    "hosts_jk_mg_8_300 = {}\n",
    "for i in hosts_jk_mg_8.keys():\n",
    "    hosts_jk_mg_8_300[i] =  occ_rate_mg_rad(0, hosts_jk_mg_8[i], mag_gap_arr)\n",
    "hosts_jk_mg_8_200 = {}\n",
    "for i in hosts_jk_mg_8.keys():\n",
    "    hosts_jk_mg_8_200[i] =  occ_rate_mg_rad(4, hosts_jk_mg_8[i], mag_gap_arr)\n",
    "hosts_jk_mg_8_100 = {}\n",
    "for i in hosts_jk_mg_8.keys():\n",
    "    hosts_jk_mg_8_100[i] =  occ_rate_mg_rad(8, hosts_jk_mg_8[i], mag_gap_arr)"
   ]
  },
  {
   "cell_type": "code",
   "execution_count": null,
   "metadata": {},
   "outputs": [],
   "source": [
    "mg_std_300 = {}\n",
    "for mg in hosts_jk_mg_8_300[0].keys():\n",
    "    occ_rate = []\n",
    "    for i in hosts_jk_mg_8_300.keys():\n",
    "        occ_rate.append(hosts_jk_mg_8_300[i][mg])\n",
    "    mg_std_300[mg] = np.std(occ_rate)\n",
    "mg_std_200 = {}\n",
    "for mg in hosts_jk_mg_8_200[0].keys():\n",
    "    occ_rate = []\n",
    "    for i in hosts_jk_mg_8_200.keys():\n",
    "        occ_rate.append(hosts_jk_mg_8_200[i][mg])\n",
    "    mg_std_200[mg] = np.std(occ_rate)\n",
    "mg_std_100 = {}\n",
    "for mg in hosts_jk_mg_8_100[0].keys():\n",
    "    occ_rate = []\n",
    "    for i in hosts_jk_mg_8_100.keys():\n",
    "        occ_rate.append(hosts_jk_mg_8_100[i][mg])\n",
    "    mg_std_100[mg] = np.std(occ_rate)"
   ]
  },
  {
   "cell_type": "code",
   "execution_count": null,
   "metadata": {},
   "outputs": [],
   "source": [
    "#need functions for this!\n",
    "p3_mgs_sims_corr = []\n",
    "for i in range(3000):\n",
    "    p3_mgs_sims_corr.append(brightest_sat_mg_rad_sims_corr(p3_pred_Mr143, p3_rproj143, rproj_arr, p3_host_lum143)) "
   ]
  },
  {
   "cell_type": "code",
   "execution_count": null,
   "metadata": {},
   "outputs": [],
   "source": [
    "p3_mg_sims_occs_300_corr = []\n",
    "for i in range(len(p3_mgs_sims_corr)):\n",
    "    p3_mg_sims_occs_300_corr.append(occ_rate_mg_rad(0, p3_mgs_sims_corr[i], mag_gap_arr))\n",
    "p3_mg_sims_occs_200_corr = []\n",
    "for i in range(len(p3_mgs_sims_corr)):\n",
    "    p3_mg_sims_occs_200_corr.append(occ_rate_mg_rad(4, p3_mgs_sims_corr[i], mag_gap_arr))\n",
    "p3_mg_sims_occs_100_corr = []\n",
    "for i in range(len(p3_mgs_sims_corr)):\n",
    "    p3_mg_sims_occs_100_corr.append(occ_rate_mg_rad(8, p3_mgs_sims_corr[i], mag_gap_arr))"
   ]
  },
  {
   "cell_type": "code",
   "execution_count": null,
   "metadata": {},
   "outputs": [],
   "source": [
    "p3_mg_sims_occs_300_means_corr, p3_mg_sims_occs_300_stds_corr = mean_std_sims(p3_mg_sims_occs_300_corr)\n",
    "p3_mg_sims_occs_200_means_corr, p3_mg_sims_occs_200_stds_corr = mean_std_sims(p3_mg_sims_occs_200_corr)\n",
    "p3_mg_sims_occs_100_means_corr, p3_mg_sims_occs_100_stds_corr = mean_std_sims(p3_mg_sims_occs_100_corr)"
   ]
  },
  {
   "cell_type": "code",
   "execution_count": null,
   "metadata": {},
   "outputs": [],
   "source": [
    "matched_spiral_ell = select_spirals(test_matches)"
   ]
  },
  {
   "cell_type": "code",
   "execution_count": null,
   "metadata": {},
   "outputs": [],
   "source": [
    "p3_SAB_select = p3_SAB\n",
    "for host in p3_SAB['HOSTID']:\n",
    "    index = p3_SAB[p3_SAB['HOSTID'] == host].index.values\n",
    "    if host not in matched_spiral_ell.values():\n",
    "        p3_SAB_select = p3_SAB_select.drop(index)"
   ]
  },
  {
   "cell_type": "code",
   "execution_count": null,
   "metadata": {},
   "outputs": [],
   "source": [
    "p3_LMC_SAB_select = p3_SAB_select\n",
    "p3_no_LMC_SAB_select = p3_SAB_select\n",
    "for host in p3_SAB_select['HOSTID']:\n",
    "    index = p3_SAB_select[p3_SAB_select['HOSTID'] == host].index.values\n",
    "    if p3_hosts_LMCs[host]==True:\n",
    "        p3_no_LMC_SAB_select = p3_no_LMC_SAB_select.drop(index)\n",
    "    if p3_hosts_LMCs[host]==False:\n",
    "        p3_LMC_SAB_select = p3_LMC_SAB_select.drop(index)"
   ]
  },
  {
   "cell_type": "code",
   "execution_count": null,
   "metadata": {},
   "outputs": [],
   "source": [
    "from scipy.stats import sem\n",
    "p3_LMC_SAB_select_sem_mean_kabs = [sem(p3_LMC_SAB_select['K_ABS']), np.mean(p3_LMC_SAB_select['K_ABS'])]\n",
    "p3_no_LMC_SAB_select_sem_mean_kabs = [sem(p3_no_LMC_SAB_select['K_ABS']), np.mean(p3_no_LMC_SAB_select['K_ABS'])]\n",
    "p3_LMC_SAB_select_sem_mean_sats = [sem(p3_LMC_SAB_select['sats_Mr_limit']), np.mean(p3_LMC_SAB_select['sats_Mr_limit'])]\n",
    "p3_no_LMC_SAB_select_sem_mean_sats = [sem(p3_no_LMC_SAB_select['sats_Mr_limit']), np.mean(p3_no_LMC_SAB_select['sats_Mr_limit'])]\n",
    "\n",
    "p3_LMC_ES0_sem_mean_sats = [sem(p3_LMC_ES0['sats_Mr_limit']), np.mean(p3_LMC_ES0['sats_Mr_limit'])]\n",
    "p3_no_LMC_ES0_sem_mean_sats = [sem(p3_no_LMC_ES0['sats_Mr_limit']), np.mean(p3_no_LMC_ES0['sats_Mr_limit'])]\n",
    "p3_LMC_ES0_sem_mean_kabs = [sem(p3_LMC_ES0['K_ABS']), np.mean(p3_LMC_ES0['K_ABS'])]\n",
    "p3_no_LMC_ES0_sem_mean_kabs = [sem(p3_no_LMC_ES0['K_ABS']), np.mean(p3_no_LMC_ES0['K_ABS'])]"
   ]
  },
  {
   "cell_type": "code",
   "execution_count": null,
   "metadata": {},
   "outputs": [],
   "source": [
    "host_rad_lum_18 = determining_host_count_arr_rproj(p3_complete_hosts, sats_complete_hosts_sorted, rproj_arr, -18)\n",
    "host_rad_lum_15 = determining_host_count_arr_rproj(p3_complete_hosts, sats_complete_hosts_sorted, rproj_arr, -15)\n",
    "host_rad_lum_12 = determining_host_count_arr_rproj(p3_complete_hosts, sats_complete_hosts_sorted, rproj_arr, -12)"
   ]
  },
  {
   "cell_type": "code",
   "execution_count": null,
   "metadata": {},
   "outputs": [],
   "source": [
    "host_rad_lum_18_means, host_rad_lum_18_stds = mean_std_lum_rad(host_rad_lum_18)\n",
    "host_rad_lum_15_means, host_rad_lum_15_stds = mean_std_lum_rad(host_rad_lum_15)\n",
    "host_rad_lum_12_means, host_rad_lum_12_stds = mean_std_lum_rad(host_rad_lum_12)"
   ]
  },
  {
   "cell_type": "code",
   "execution_count": null,
   "metadata": {},
   "outputs": [],
   "source": [
    "ratio_host_count_18 = ratio_sims_data(host_count_18_mean_of_means_sims, host_rad_lum_18_means)\n",
    "ratio_host_count_15 = ratio_sims_data(host_count_15_mean_of_means_sims, host_rad_lum_15_means)\n",
    "ratio_host_count_12 = ratio_sims_data(host_count_12_mean_of_means_sims, host_rad_lum_12_means)"
   ]
  },
  {
   "cell_type": "code",
   "execution_count": null,
   "metadata": {},
   "outputs": [],
   "source": [
    "p3_count_sims_18 = []\n",
    "for i in range(3000):\n",
    "    p3_count_sims_18.append(determining_host_count_arr_rproj_sims(p3_pred_Mr143, p3_rproj143, rproj_arr,-18)) \n",
    "p3_count_sims_15 = []\n",
    "for i in range(3000):\n",
    "    p3_count_sims_15.append(determining_host_count_arr_rproj_sims(p3_pred_Mr143, p3_rproj143, rproj_arr,-15)) \n",
    "p3_count_sims_12 = []\n",
    "for i in range(3000):\n",
    "    p3_count_sims_12.append(determining_host_count_arr_rproj_sims(p3_pred_Mr143, p3_rproj143, rproj_arr,-12)) "
   ]
  },
  {
   "cell_type": "code",
   "execution_count": null,
   "metadata": {},
   "outputs": [],
   "source": [
    "host_count_18_means_sims = []\n",
    "host_count_18_stds_sims = []\n",
    "for i in range(len(p3_count_sims_18)):\n",
    "    host_count_18_ms_sims, host_count_18_ss_sims = mean_std_lum_rad(p3_count_sims_18[i])\n",
    "    host_count_18_means_sims.append(host_count_18_ms_sims)\n",
    "    host_count_18_stds_sims.append(host_count_18_ss_sims)\n",
    "\n",
    "host_count_15_means_sims = []\n",
    "host_count_15_stds_sims = []\n",
    "for i in range(len(p3_count_sims_15)):\n",
    "    host_count_15_ms_sims, host_count_15_ss_sims = mean_std_lum_rad(p3_count_sims_15[i])\n",
    "    host_count_15_means_sims.append(host_count_15_ms_sims)\n",
    "    host_count_15_stds_sims.append(host_count_15_ss_sims)\n",
    "\n",
    "host_count_12_means_sims = []\n",
    "host_count_12_stds_sims = []\n",
    "for i in range(len(p3_count_sims_12)):\n",
    "    host_count_12_ms_sims, host_count_12_ss_sims = mean_std_lum_rad(p3_count_sims_12[i])\n",
    "    host_count_12_means_sims.append(host_count_12_ms_sims)\n",
    "    host_count_12_stds_sims.append(host_count_12_ss_sims)"
   ]
  },
  {
   "cell_type": "code",
   "execution_count": null,
   "metadata": {},
   "outputs": [],
   "source": [
    "host_count_18_std_of_means_sims = std_of_means_sims_radial_dist(host_count_18_means_sims)\n",
    "host_count_15_std_of_means_sims = std_of_means_sims_radial_dist(host_count_15_means_sims)\n",
    "host_count_12_std_of_means_sims = std_of_means_sims_radial_dist(host_count_12_means_sims)"
   ]
  },
  {
   "cell_type": "code",
   "execution_count": null,
   "metadata": {},
   "outputs": [],
   "source": [
    "host_count_18_mean_of_stds_sims = mean_of_means_sims_radial_dist(host_count_18_stds_sims)\n",
    "host_count_15_mean_of_stds_sims = mean_of_means_sims_radial_dist(host_count_15_stds_sims)\n",
    "host_count_12_mean_of_stds_sims = mean_of_means_sims_radial_dist(host_count_12_stds_sims)"
   ]
  },
  {
   "cell_type": "code",
   "execution_count": null,
   "metadata": {},
   "outputs": [],
   "source": [
    "host_count_18_mean_of_means_sims = mean_of_means_sims_radial_dist(host_count_18_means_sims)\n",
    "host_count_15_mean_of_means_sims = mean_of_means_sims_radial_dist(host_count_15_means_sims)\n",
    "host_count_12_mean_of_means_sims = mean_of_means_sims_radial_dist(host_count_12_means_sims)"
   ]
  },
  {
   "cell_type": "code",
   "execution_count": null,
   "metadata": {},
   "outputs": [],
   "source": [
    "mg_count = determining_mg_count(p3_complete_hosts, sats_complete_hosts_sorted, mg_arr)"
   ]
  },
  {
   "cell_type": "code",
   "execution_count": null,
   "metadata": {},
   "outputs": [],
   "source": [
    "mg_count_means, mg_count_stds = just_mean_std_mg_count(mg_count)"
   ]
  },
  {
   "cell_type": "markdown",
   "metadata": {},
   "source": [
    "### Making that Data into Plots"
   ]
  },
  {
   "cell_type": "code",
   "execution_count": 26,
   "metadata": {},
   "outputs": [],
   "source": [
    "def determine_fill_bounds(error, occs):\n",
    "    bound_up = []\n",
    "    bound_down = []\n",
    "    for i in range(len(occs.values())):\n",
    "        bound_up.append(list(occs.values())[i]+list(error)[i])\n",
    "        if list(occs.values())[i]-list(error)[i]>0:\n",
    "            bound_down.append(list(occs.values())[i]-list(error)[i])\n",
    "        if list(occs.values())[i]-list(error)[i]<=0:\n",
    "            bound_down.append(0)\n",
    "    return bound_up, bound_down"
   ]
  },
  {
   "cell_type": "code",
   "execution_count": null,
   "metadata": {},
   "outputs": [],
   "source": [
    "p3_bound_up_sat_rad_143_100_lum, p3_bound_down_sat_rad_143_100_lum = determine_fill_bounds(p3_lum_sims_occs_100_stds.values(),p3_lum_sims_occs_100_means)\n",
    "p3_bound_up_sat_rad_143_200_lum, p3_bound_down_sat_rad_143_200_lum = determine_fill_bounds(p3_lum_sims_occs_200_stds.values(),p3_lum_sims_occs_200_means)\n",
    "p3_bound_up_sat_rad_143_300_lum, p3_bound_down_sat_rad_143_300_lum = determine_fill_bounds(p3_lum_sims_occs_300_stds.values(),p3_lum_sims_occs_300_means)"
   ]
  },
  {
   "cell_type": "code",
   "execution_count": null,
   "metadata": {},
   "outputs": [],
   "source": [
    "plt.rcParams[\"figure.figsize\"] = (10,10)\n",
    "plt.rcParams['font.size'] = 12\n",
    "plt.errorbar(lum_occs_300.keys(), lum_occs_300.values(), yerr = list(std_lum_300.values()), fmt = 'o', c = 'r',  marker = 'None',capsize = 10, markersize = 10, elinewidth = 3,label = \"Paper 3, within 300 kpc\")\n",
    "plt.errorbar(lum_occs_200.keys(), lum_occs_200.values(), yerr = list(std_lum_200.values()), fmt = 'o', c = 'lightgreen', marker = 'None', capsize = 10,markersize = 10, elinewidth = 3, label = \"Paper 3, within 200 kpc\")\n",
    "plt.errorbar(lum_occs_100.keys(), lum_occs_100.values(), yerr = list(std_lum_100.values()), fmt = 'o', c = 'darkorange', marker = 'None', capsize = 10,markersize = 10,elinewidth = 3, label = \"Paper 3, within 100 kpc\")\n",
    "\n",
    "plt.fill_between(p3_lum_sims_occs_300_means.keys(), p3_bound_up_sat_rad_143_300_lum, p3_bound_down_sat_rad_143_300_lum, color = 'pink', label = \"Simulation, within 300 kpc\")\n",
    "plt.fill_between(p3_lum_sims_occs_200_means.keys(), p3_bound_up_sat_rad_143_200_lum, p3_bound_down_sat_rad_143_200_lum, color = 'forestgreen', alpha = 0.5, label = \"Simulation, within 200 kpc\")\n",
    "plt.fill_between(p3_lum_sims_occs_100_means.keys(), p3_bound_up_sat_rad_143_100_lum, p3_bound_down_sat_rad_143_100_lum, color = 'gold', alpha = 0.5,label = \"Simulation, within 100 kpc\")\n",
    "\n",
    "plt.title(\"Occurence Rate as a Function of Luminosity\")\n",
    "#plt.gca().invert_xaxis()\n",
    "plt.legend(loc = 'upper left')\n",
    "plt.ylabel(\"Fraction of Hosts with Luminosity above Threshold\")\n",
    "plt.xlabel('Satellite Luminosity')\n",
    "plt.xlim(right = -12)"
   ]
  },
  {
   "cell_type": "code",
   "execution_count": null,
   "metadata": {},
   "outputs": [],
   "source": [
    "p3_bound_up_sat_rad_143_100_mg_corr, p3_bound_down_sat_rad_143_100_mg_corr = determine_fill_bounds(p3_mg_sims_occs_100_stds_corr.values(),p3_mg_sims_occs_100_means_corr)\n",
    "p3_bound_up_sat_rad_143_200_mg_corr, p3_bound_down_sat_rad_143_200_mg_corr = determine_fill_bounds(p3_mg_sims_occs_200_stds_corr.values(),p3_mg_sims_occs_200_means_corr)\n",
    "p3_bound_up_sat_rad_143_300_mg_corr, p3_bound_down_sat_rad_143_300_mg_corr = determine_fill_bounds(p3_mg_sims_occs_300_stds_corr.values(),p3_mg_sims_occs_300_means_corr)"
   ]
  },
  {
   "cell_type": "code",
   "execution_count": null,
   "metadata": {},
   "outputs": [],
   "source": [
    "plt.rcParams[\"figure.figsize\"] = (10,10)\n",
    "plt.rcParams['font.size'] = 12\n",
    "plt.errorbar(mg_occs_300.keys(), mg_occs_300.values(), yerr = list(std_300.values()), fmt = 'o', c = 'r',  marker = 'None',capsize = 10, markersize = 10, elinewidth = 3,label = \"Paper 3, within 300 kpc\")\n",
    "plt.errorbar(mg_occs_200.keys(), mg_occs_200.values(), yerr = list(std_200.values()), fmt = 'o', c = 'lightgreen', marker = 'None', capsize = 10,markersize = 10, elinewidth = 3, label = \"Paper 3, within 200 kpc\")\n",
    "plt.errorbar(mg_occs_100.keys(), mg_occs_100.values(), yerr = list(std_100.values()), fmt = 'o', c = 'darkorange', marker = 'None', capsize = 10,markersize = 10,elinewidth = 3, label = \"Paper 3, within 100 kpc\")\n",
    "\n",
    "plt.fill_between(p3_mg_sims_occs_300_means_corr.keys(), p3_bound_up_sat_rad_143_300_mg_corr, p3_bound_down_sat_rad_143_300_mg_corr, color = 'pink', label = \"Corrected Simulation, within 300 kpc\")\n",
    "plt.fill_between(p3_mg_sims_occs_200_means_corr.keys(), p3_bound_up_sat_rad_143_200_mg_corr, p3_bound_down_sat_rad_143_200_mg_corr, color = 'forestgreen', alpha = 0.5, label = \"Simulation, within 200 kpc\")\n",
    "plt.fill_between(p3_mg_sims_occs_100_means_corr.keys(), p3_bound_up_sat_rad_143_100_mg_corr, p3_bound_down_sat_rad_143_100_mg_corr, color = 'gold', alpha = 0.5,label = \"Simulation, within 100 kpc\")\n",
    "\n",
    "plt.title(\"Occurence Rate as a Function of Magnitude Gap\")\n",
    "plt.gca().invert_xaxis()\n",
    "plt.legend(loc = 'upper left')\n",
    "plt.ylabel(\"Fraction of Hosts with Gap smaller than Threshold\")\n",
    "plt.xlabel('Magnitude Gap: Host - Satellite')"
   ]
  },
  {
   "cell_type": "code",
   "execution_count": null,
   "metadata": {},
   "outputs": [],
   "source": [
    "fig, ax = plt.subplots(figsize=(12, 8)) \n",
    "mw_m31.plot(kind='scatter',x='K_ABS',y='sat_num', s = 100, color='green', ax=ax, label = 'Milky Way/M31')\n",
    "p3_LMC_ES0.plot(kind='scatter',x='K_ABS',y='sats_Mr_limit', s = 100, color='red', marker = 'D', ax = ax, label = 'Ellipticals with LMCs')\n",
    "p3_LMC_SAB.plot(kind='scatter',x='K_ABS',y='sats_Mr_limit', s = 100, color='blue', marker = '>', ax = ax, label = 'Spirals with LMCs')\n",
    "p3_no_LMC_ES0.plot(kind='scatter',x='K_ABS',y='sats_Mr_limit', s = 100, color='orange', marker = 'D', ax = ax, label = 'Ellipticals no LMCs')\n",
    "p3_no_LMC_SAB.plot(kind='scatter',x='K_ABS',y='sats_Mr_limit', s = 100, color='purple', marker = '>', ax = ax, label = 'Spirals no LMCs')\n",
    "plt.rcParams['font.size'] = 15\n",
    "#plt.figure(figsize=(20, 25))\n",
    "plt.legend(loc = [0.7, 0.65] ,fontsize = 'small', markerscale = 0.66)\n",
    "plt.title('Host Luminosity vs. Satellite Number')\n",
    "plt.show()"
   ]
  },
  {
   "cell_type": "code",
   "execution_count": null,
   "metadata": {},
   "outputs": [],
   "source": [
    "fig, ax = plt.subplots(figsize=(10, 8)) \n",
    "plt.errorbar(p3_LMC_ES0_sem_mean_kabs[1], p3_LMC_ES0_sem_mean_sats_corr[1], xerr = p3_LMC_ES0_sem_mean_kabs[0], yerr = p3_LMC_ES0_sem_mean_sats_corr[0], c = 'r', ecolor = 'r', fmt = 'o', marker = '*', elinewidth = 3, markersize = 20, capsize = 10, label = 'Ellipticals with LMC')\n",
    "plt.errorbar(p3_no_LMC_ES0_sem_mean_kabs[1], p3_no_LMC_ES0_sem_mean_sats[1],  xerr = p3_no_LMC_ES0_sem_mean_kabs[0],  yerr = p3_no_LMC_ES0_sem_mean_sats[0], c = 'orange', ecolor = 'orange', fmt = 'o', marker = '*', elinewidth = 3, markersize = 20, capsize = 10, label = 'Ellipticals without LMC')\n",
    "plt.errorbar(p3_LMC_SAB_select_sem_mean_kabs[1], p3_LMC_SAB_select_sem_mean_sats_corr[1],  xerr = p3_LMC_SAB_select_sem_mean_kabs[0], yerr = p3_LMC_SAB_select_sem_mean_sats_corr[0], c = 'green', ecolor = 'green', fmt = 'o', marker = '*', elinewidth = 3, markersize = 20, capsize = 10, label = 'Spirals with LMC')\n",
    "plt.errorbar(p3_no_LMC_SAB_select_sem_mean_kabs[1], p3_no_LMC_SAB_select_sem_mean_sats[1],  xerr = p3_no_LMC_SAB_select_sem_mean_kabs[0], yerr = p3_no_LMC_SAB_select_sem_mean_sats[0], c = 'b', ecolor = 'b', fmt = 'o', marker = '*', elinewidth = 3, markersize = 20, capsize = 10, label = 'Spirals without LMC')\n",
    "\n",
    "plt.legend(loc = 'upper right')\n",
    "plt.xlabel('Host Brightness')\n",
    "plt.ylabel('Number of Satellites')\n",
    "plt.title('Mean Host Brightness vs. Mean Number of Satellites (LMC Removed, Luminosity Matched)')"
   ]
  },
  {
   "cell_type": "code",
   "execution_count": null,
   "metadata": {},
   "outputs": [],
   "source": [
    "plt.rcParams[\"figure.figsize\"] = (8,8)\n",
    "plt.rcParams['font.size'] = 12\n",
    "plt.scatter(ratio_host_count_18.keys(), ratio_host_count_18.values(),  c = 'red', marker = '*', s = 100, label = \"Simulation to Data Ratio, Brighter than -18\")\n",
    "plt.scatter(ratio_host_count_15.keys(), ratio_host_count_15.values(),  c = 'gold', marker = '*', s = 100, label = \"Brighter than -15\")\n",
    "plt.scatter(ratio_host_count_12.keys(), ratio_host_count_12.values(),  c = 'dodgerblue', marker = '*', s = 100, label = \"Brighter than -12\")\n",
    "\n",
    "plt.title(\"Satellite Radial Distribution\")\n",
    "#plt.gca().invert_xaxis()\n",
    "plt.legend(loc = 'center right')\n",
    "plt.ylabel(\"Ratio of Number of Satellites per Host within Threshold\")\n",
    "plt.xlabel('Distance of Satellite')"
   ]
  },
  {
   "cell_type": "code",
   "execution_count": null,
   "metadata": {},
   "outputs": [],
   "source": [
    "host_count_15_sims_bound_up, host_count_15_sims_bound_down =  determine_fill_bounds(host_count_15_mean_of_stds_sims.values(), host_count_15_mean_of_means_sims)"
   ]
  },
  {
   "cell_type": "code",
   "execution_count": null,
   "metadata": {},
   "outputs": [],
   "source": [
    "#this needs to be fixed\n",
    "plt.rcParams[\"figure.figsize\"] = (8,8)\n",
    "plt.rcParams['font.size'] = 12\n",
    "plt.scatter(host_rad_lum_12_means.keys(), host_rad_lum_12_means.values(),  c = 'dodgerblue', marker = '*', s = 100,zorder = 2,label = \"Paper 3,brighter than -12\")\n",
    "plt.errorbar(host_rad_lum_15_means.keys(), host_rad_lum_15_means.values(), yerr = list(host_rad_lum_15_stds.values()), fmt = 'o', c = 'orange', marker = '*', capsize = 10,markersize = 10, elinewidth = 3, zorder = 1, label = \"Paper 3, brighter than -15\")\n",
    "plt.scatter(host_rad_lum_18_means.keys(), host_rad_lum_18_means.values(),  c = 'r',  marker = '*', s = 100,zorder = 3, label = \"Paper 3, brighter than -18\")\n",
    "\n",
    "plt.scatter(host_count_12_mean_of_means_sims.keys(), host_count_12_mean_of_means_sims.values(),  c = 'dodgerblue', marker = 'D', s = 80,zorder = 2,label = \"Simulation, brighter than -12\")\n",
    "plt.fill_between(host_count_15_mean_of_means_sims.keys(), host_count_15_sims_bound_up, host_count_15_sims_bound_down, color = 'gold', alpha = 0.5, label = \"Simulation, brighter than -15\")\n",
    "plt.scatter(host_count_18_mean_of_means_sims.keys(), host_count_18_mean_of_means_sims.values(),  c = 'r',  marker = 'D', s = 80,zorder = 3, label = \"Simulation, brighter than -18\")\n",
    "\n",
    "#plt.errorbar(p2_hosts_lmcs_vary_lum_extend_occ.keys(), p2_hosts_lmcs_vary_lum_extend_occ.values(), yerr = p2_std_jk_lum_extend_8, c = 'dodgerblue', ecolor = 'dodgerblue', fmt = 'o', marker = 'None', elinewidth = 3, markersize = 20, capsize = 10,label = \"Paper 2, within 300 kpc\")\n",
    "#plt.scatter(arr_keys, m*arr_keys + b, c = 'b')\n",
    "#plt.plot(np.unique(arr_keys_lum_extend), np.poly1d(np.polyfit(arr_keys_lum_extend, arr_values_lum_extend, 1))(np.unique(arr_keys_lum_extend)), linewidth = 2, label = \"Line of Best Fit\")\n",
    "#plt.plot(-18.3, .3093, color = 'green', marker = '*',markersize = 15, label = 'Past Cut at -18.3')\n",
    "#plt.text(-14, 0.2, 'y = 0.0536x - 1.1733')\n",
    "plt.title(\"Satellite Radial Distribution\")\n",
    "#plt.gca().invert_xaxis()\n",
    "plt.legend(loc = 'upper left')\n",
    "plt.ylabel(\"Number of Satellites per Host within Threshold\")\n",
    "plt.xlabel('Distance of Satellite')"
   ]
  },
  {
   "cell_type": "code",
   "execution_count": null,
   "metadata": {},
   "outputs": [],
   "source": [
    "plt.errorbar(mg_count.keys(), mg_count_means, yerr= mg_count_stds, fmt = 'o', marker = '*', markersize = 15, capsize = 10, label = 'No Radial Cut')\n",
    "plt.ylim(bottom=0)\n",
    "plt.title('Mean Number of Satellites per Host with Magnitude Gap')\n",
    "plt.xlabel('Magnitude Gap: Satellite - Host')\n",
    "plt.ylabel('Mean Number of Satellites')"
   ]
  }
 ],
 "metadata": {
  "kernelspec": {
   "display_name": "Python 3",
   "language": "python",
   "name": "python3"
  },
  "language_info": {
   "codemirror_mode": {
    "name": "ipython",
    "version": 3
   },
   "file_extension": ".py",
   "mimetype": "text/x-python",
   "name": "python",
   "nbconvert_exporter": "python",
   "pygments_lexer": "ipython3",
   "version": "3.7.3"
  }
 },
 "nbformat": 4,
 "nbformat_minor": 4
}
